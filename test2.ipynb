{
 "cells": [
  {
   "cell_type": "code",
   "execution_count": null,
   "metadata": {},
   "outputs": [],
   "source": [
    "print (\"Welcome to Python world! Let's start coding\")"
   ]
  },
  {
   "cell_type": "code",
   "execution_count": null,
   "metadata": {},
   "outputs": [],
   "source": [
    "a = 1 + 2 + 3 + \\\n",
    "    4 + 5 + 6 + \\\n",
    "    7 + 8 + 9\n",
    "print(a)\n"
   ]
  },
  {
   "cell_type": "code",
   "execution_count": null,
   "metadata": {},
   "outputs": [],
   "source": [
    "a = 1 + 2 + 3 + \n",
    "    4 + 5 + 6 +\n",
    "    7 + 8 + 9"
   ]
  },
  {
   "cell_type": "code",
   "execution_count": null,
   "metadata": {},
   "outputs": [],
   "source": [
    "x=\"yahya\"\n",
    "print(type(x))\n",
    "y = 5\n",
    "print(type(y))\n",
    "z = 5.5\n",
    "print(type(z))"
   ]
  },
  {
   "cell_type": "code",
   "execution_count": null,
   "metadata": {},
   "outputs": [],
   "source": [
    "for i in range(5):\n",
    "    print(i)\n",
    "for o in range(10):\n",
    "    print(o)"
   ]
  },
  {
   "cell_type": "code",
   "execution_count": null,
   "metadata": {},
   "outputs": [],
   "source": [
    "#guess = input(\"enter your guess name\")\n",
    "#print('hello' , guess)\n",
    "#a = int(guess)\n",
    "#print(a)\n",
    "#import random\n",
    "#x = random.randint(1,100)\n",
    "#print(x)\n",
    "#a = 12\n",
    "#r = 100\n",
    "#if a < r : \n",
    "#    #print('true')\n",
    "#elif a == r : \n",
    "    #print(\"yes\")\n",
    "#else : \n",
    "    #print(\"no\")\n",
    "import random\n",
    "correct_number= random.randint(1,100)   \n",
    "print(\"correct_number\") \n",
    "player_guess = int(input(\"enter you answer\"))\n",
    "while player_guess != correct_number:\n",
    "   if player_guess >  correct_number:  \n",
    "        print(\"Your guess is too high. Guess again. \")\n",
    "        player_guess = int(input(\"enter you answer\"))\n",
    "   elif player_guess < correct_number: \n",
    "        print(\"Your guess is too low. Guess again. \")\n",
    "        player_guess = int(input(\"enter you answer\"))\n",
    "print(\"you are correct\")\n",
    "\n"
   ]
  },
  {
   "cell_type": "code",
   "execution_count": null,
   "metadata": {},
   "outputs": [],
   "source": [
    "my_list = [\"yahya\" , \"Malak\" , \"Badr\" , \"Mama\" , \"Baba\" , \"Amine\"]\n",
    "#print(my_list[1:3]) \n",
    "#print(len(my_list))\n",
    "my_list.append(\"Matlab\") #ADD ITEAM TO THE END FO THE LIST \n",
    "print(my_list)\n"
   ]
  },
  {
   "cell_type": "code",
   "execution_count": null,
   "metadata": {},
   "outputs": [],
   "source": [
    "my_list = [\"yahya\" , \"Malak\" , \"Badr\" , \"Mama\" , \"Baba\" , \"Amine\"]\n",
    "my_list.insert(2,\"neymar\") #add an item to a specified place\n",
    "print(my_list)"
   ]
  },
  {
   "cell_type": "code",
   "execution_count": null,
   "metadata": {},
   "outputs": [],
   "source": [
    "my_list = [\"yahya\" , \"Malak\" , \"Badr\" , \"Mama\" , \"Baba\" , \"Amine\"]\n",
    "my_list[5] = \"Kill\"  #change the second item(spark)\n",
    "print(my_list)"
   ]
  },
  {
   "cell_type": "code",
   "execution_count": null,
   "metadata": {},
   "outputs": [],
   "source": [
    "my_list = [\"yahya\" , \"Malak\" , \"Badr\" , \"Mama\" , \"Baba\" , \"Amine\"]\n",
    "my_list.remove(\"yahya\")\n",
    "print(my_list)"
   ]
  },
  {
   "cell_type": "code",
   "execution_count": null,
   "metadata": {},
   "outputs": [],
   "source": [
    "my_dictionary = {\"knowled\" : \"python\" , \"coding\" : \"cat\" , \"house\" : 1999}\n",
    "for key in my_dictionary.keys() : \n",
    "    print(key)"
   ]
  },
  {
   "cell_type": "code",
   "execution_count": null,
   "metadata": {},
   "outputs": [],
   "source": [
    "my_dictionary = {\"knowled\" : \"python\" , \"coding\" : \"cat\" , \"house\" : 1999}\n",
    "for value in my_dictionary.values () : \n",
    "    print(value)"
   ]
  },
  {
   "cell_type": "code",
   "execution_count": null,
   "metadata": {},
   "outputs": [],
   "source": [
    "my_dictionary = {\"knowled\" : \"python\" , \"coding\" : \"cat\" , \"house\" : 1999}\n",
    "for item in my_dictionary.items () : \n",
    "    print(item)"
   ]
  },
  {
   "cell_type": "code",
   "execution_count": null,
   "metadata": {},
   "outputs": [],
   "source": [
    "my_dictionary = {\"knowled\" : \"python\" , \"coding\" : \"cat\" , \"house\" : 1999}\n",
    "my_dictionary[\"play\"] = True\n",
    "print(my_dictionary) #add an item"
   ]
  },
  {
   "cell_type": "code",
   "execution_count": null,
   "metadata": {},
   "outputs": [],
   "source": [
    "my_set = (\"python\" , \"java\" , \"C++\")\n",
    "my_set.add(\"scala\")                     #ask for\n",
    "print(my_set)   "
   ]
  },
  {
   "cell_type": "code",
   "execution_count": null,
   "metadata": {},
   "outputs": [],
   "source": [
    "my_tuple =(\"python\" , \"java\" , \"C++\")\n",
    "print(my_tuple)                         #tuples are ordered and unchangable "
   ]
  },
  {
   "cell_type": "code",
   "execution_count": null,
   "metadata": {},
   "outputs": [],
   "source": [
    "tuple1 =(\"python\" , \"java\" , \"C++\")\n",
    "tuple2 = (\"html\" , \"Ruby\" , \"Data science\")\n",
    "tuple3 = tuple1 + tuple2                            #Join two tuples\n",
    "print(tuple3)"
   ]
  },
  {
   "cell_type": "code",
   "execution_count": null,
   "metadata": {},
   "outputs": [],
   "source": [
    "#Question 1\n",
    "def list(items):\n",
    "    result = 1 \n",
    "    for item in items:\n",
    "        result *= item\n",
    "    return result\n",
    "sample_list = [2,3,6]\n",
    "result = multiply_list(sample_list)\n",
    "print(result)"
   ]
  },
  {
   "cell_type": "code",
   "execution_count": null,
   "metadata": {},
   "outputs": [],
   "source": [
    "#question 2 \n",
    "Sample_Liste : [(2, 5), (1, 2), (4, 4), (2, 3), (2, 1)] \n",
    "tuple1 = [(2,5)]\n",
    "tuple2 = [(1,2)]\n",
    "tuple4 = [(4,4)]\n",
    "tuple3 = [(2,3)]\n",
    "tuple5 = [(2,1)]\n",
    "tuple6 = tuple1 + tuple2 + tuple3 + tuple4 + tuple5\n",
    "tuple6.sort()\n",
    "print(tuple6)"
   ]
  },
  {
   "cell_type": "code",
   "execution_count": null,
   "metadata": {},
   "outputs": [],
   "source": [
    "#question 3\n",
    "d1 = {'a': 100, 'b': 200, 'c':300}\n",
    "d2 = {'a': 300, 'b': 200, 'd':400}\n",
    "result = {key: d1.get(key, 0) + d2.get(key, 0) for key in set(d1) | set(d2)}\n",
    "print(result)"
   ]
  },
  {
   "cell_type": "code",
   "execution_count": null,
   "metadata": {},
   "outputs": [],
   "source": [
    "#question 4 \n",
    "def generat_squared_dict(n) : \n",
    "    squared_dict = {i: i * i for i in range(1, n + 1)}\n",
    "    return squared_dict\n",
    "n = int(input(\"Enter an integer:\"))\n",
    "squared_dict = generat_squared_dict(n)\n",
    "print(squared_dict)"
   ]
  },
  {
   "cell_type": "code",
   "execution_count": null,
   "metadata": {},
   "outputs": [],
   "source": [
    "#suestion 5\n",
    "tuple_list = [('item1', '12.20'), ('item2', '15.10'), ('item3', '24.5')]\n",
    "sorted_list = sorted(tuple_list, key=lambda x:float(x[1]) , reverse=True)\n",
    "print(sorted_list)"
   ]
  },
  {
   "cell_type": "code",
   "execution_count": null,
   "metadata": {},
   "outputs": [],
   "source": [
    "#question 6\n",
    "my_set = {0, 1, 2, 3, 4}\n",
    "print(my_set)\n",
    "for item in my_set : \n",
    "    print(my_set)\n",
    "my_set.remove(2)\n",
    "print(\"Set after removing 2:\", my_set)\n",
    "my_set.add(5)\n",
    "print(\"Set after adding 5:\", my_set)\n"
   ]
  },
  {
   "cell_type": "code",
   "execution_count": null,
   "metadata": {},
   "outputs": [],
   "source": [
    "base = input()\n",
    "hauteur = input()\n",
    "def surface_triangle(b,h):\n",
    "    return(b*h)/2\n",
    "print(surface_triangle(int(base , hauteur)))\n"
   ]
  },
  {
   "cell_type": "code",
   "execution_count": null,
   "metadata": {},
   "outputs": [],
   "source": [
    "email = input(\"Enter your email: \")\n",
    "password = input(\"Enter your password: \")\n",
    "name = input(\"Enter your name: \")\n",
    "\n",
    "def enter_your_email(email):\n",
    "    return email\n",
    "\n",
    "def enter_your_password(password):\n",
    "    return password\n",
    "\n",
    "def enter_your_name(name):\n",
    "    return name\n",
    "\n",
    "if email == enter_your_email(email):\n",
    "    print(\"Yes\")\n",
    "else:\n",
    "    print(\"No\")\n",
    "\n",
    "if password == enter_your_password(password):\n",
    "    print(\"Yes\")\n",
    "else:\n",
    "    print(\"Access denied\")\n",
    "\n",
    "if name == enter_your_name(name):\n",
    "    print(\"Yes\")\n",
    "else:\n",
    "    print(\"Try again\")\n",
    "\n"
   ]
  },
  {
   "cell_type": "code",
   "execution_count": null,
   "metadata": {},
   "outputs": [],
   "source": [
    "User_name = input()\n",
    "password = input()\n",
    "def enter_your_name(name):\n",
    "    return User_name\n",
    "def enter_your_password(password):\n",
    "    return password\n",
    "if User_name == enter_your_name(User_name):\n",
    "    print(\"Yes\")\n",
    "else:\n",
    "    print(\"No\")\n",
    "if password == enter_your_password(password):\n",
    "    print(\"acces allowed\")\n",
    "else:\n",
    "    print(\"try again\")\n",
    "    "
   ]
  },
  {
   "cell_type": "code",
   "execution_count": null,
   "metadata": {},
   "outputs": [],
   "source": []
  },
  {
   "cell_type": "code",
   "execution_count": null,
   "metadata": {},
   "outputs": [],
   "source": [
    "name = \"yahya\"\n",
    "age = 21 \n",
    "entered_your_name = input(\"Enter_your_name: \")\n",
    "entered_your_age = int(input(\"enter_your_age\"))\n",
    "def enter_your_name(name):\n",
    "    return name\n",
    "def enter_your_age(age):\n",
    "    return age \n",
    "if entered_your_name == enter_your_name(name):\n",
    "    print(\"yes\")\n",
    "else: \n",
    "    print(\"Sorry acces denied\")\n",
    "if entered_your_age == enter_your_age(age):\n",
    "    print(\"Great\")\n",
    "else:\n",
    "    print(\"Sorry cannot\")\n",
    "\n"
   ]
  },
  {
   "cell_type": "code",
   "execution_count": null,
   "metadata": {},
   "outputs": [],
   "source": [
    "import random\n",
    "correct_number = 100\n",
    "player_guess = int(input(\"enter_your_guess\"))\n",
    "while player_guess != correct_number:\n",
    "    if player_guess == correct_number:\n",
    "        print(\"you guessed right\")\n",
    "        player_guess = int(input(\"enter you answer\"))\n",
    "    else: \n",
    "        print(\"try again\")\n",
    "        player_guess = int(input(\"enter you answer\"))\n",
    "print(\"you are right move one\")"
   ]
  },
  {
   "cell_type": "code",
   "execution_count": null,
   "metadata": {},
   "outputs": [],
   "source": [
    "\n",
    "print(\"Hello to my game\")\n",
    "playing = input(\"Do you want to play my game? \")\n",
    "if playing != \"yes\":\n",
    "    quit()\n",
    "print(\"okay! let't play :)\")\n",
    "answer = input(\"what is a mobile \")\n",
    "if answer == \"A mobile is a devise we use daily\":\n",
    "    print('correct')\n",
    "else: \n",
    "    print(\"Try again\")\n",
    "\n",
    "    answer = input(\"What is a laptop? \")\n",
    "if answer == \"something we use to finish our daily tasks\":\n",
    "    print('correct')\n",
    "else: \n",
    "    print(\"Try again\")\n",
    "\n",
    "\n",
    "    answer = input(\"How can you describe a cat? \")\n",
    "if answer == \"A cat is an animal we all find beautiful\":\n",
    "    print('correct')\n",
    "else: \n",
    "    print(\"Try again\")\n",
    "\n",
    "\n",
    "    answer = input(\"What do you think about Football?\")\n",
    "if answer == \"Football is a beautiful sport it is my favorite\":\n",
    "    print('correct')\n",
    "else: \n",
    "    print(\"Try again\")\n",
    "    \n"
   ]
  },
  {
   "cell_type": "code",
   "execution_count": null,
   "metadata": {},
   "outputs": [],
   "source": [
    "print(\"Welcome to our website\")\n",
    "correct_e_mail = (\"elbouatmani123@gmail.com\")\n",
    "correct_password = (\"Jhin4\")\n",
    "e_mail =input(\"Please enter your e_mail\")\n",
    "password = input(\"Please enter your password\")\n",
    "if e_mail == correct_e_mail:\n",
    "    print(\"welcome\")\n",
    "else:\n",
    "    print(\"Sorry try again\")\n",
    "if password == correct_password:\n",
    "    print(\"Logging in\")\n",
    "else:\n",
    "    print(\"Try one more time\")\n"
   ]
  },
  {
   "cell_type": "code",
   "execution_count": null,
   "metadata": {},
   "outputs": [],
   "source": [
    "sum = 0 \n",
    "i = 1 # initialize sum and counter\n",
    "\n",
    "while i <= 10:\n",
    "    sum = sum + i\n",
    "    i = i+1    # update counter\n",
    "\n",
    "print(\"The sum is\", sum) # print the sum\n",
    "i"
   ]
  },
  {
   "cell_type": "code",
   "execution_count": null,
   "metadata": {},
   "outputs": [],
   "source": [
    "dis = {\"python\":9,\"c\":12,\"java\":13,\"python\":123}\n",
    "#for values in dis.values():\n",
    "   # print(values)\n",
    "for k in dis.keys():\n",
    "    print(k)"
   ]
  },
  {
   "cell_type": "code",
   "execution_count": null,
   "metadata": {},
   "outputs": [],
   "source": [
    "import random\n",
    "guessesTaken = 0\n",
    "print(\"Hello to my game! what is your name?\")\n",
    "myName = input()\n",
    "number = random.randint(1,10)\n",
    "print('well' + myName + 'Guess the number i am thinking about')\n",
    "while guessesTaken < 6:\n",
    "    print('Take a guess')\n",
    "    guess = input()\n",
    "    guess = int(guess)\n",
    "\n",
    "    guessesTaken = guessesTaken + 1 \n",
    "    if guess < number:\n",
    "        print('you guessed too low')\n",
    "if guess > number:\n",
    "    print('you guessed too high')\n",
    "if guess == number: \n",
    "    guessesTaken = str(guessesTaken)\n",
    "    print('You did well')\n",
    "\n",
    "if guess != number:\n",
    "    number = str(number)\n",
    "    print('You guessed wrong try again')\n",
    "\n"
   ]
  },
  {
   "cell_type": "code",
   "execution_count": 2,
   "metadata": {},
   "outputs": [],
   "source": [
    "def function_name():\n",
    "      # set of tasks\n",
    "     print(\"Hello World, this is my first function\")"
   ]
  },
  {
   "cell_type": "code",
   "execution_count": 5,
   "metadata": {},
   "outputs": [
    {
     "name": "stdout",
     "output_type": "stream",
     "text": [
      "3\n"
     ]
    }
   ],
   "source": [
    "liste = [1,2,3]\n",
    "Length = 0 \n",
    "for i in liste :\n",
    "    Length +=1\n",
    "print(Length)"
   ]
  },
  {
   "cell_type": "code",
   "execution_count": 6,
   "metadata": {},
   "outputs": [
    {
     "name": "stdout",
     "output_type": "stream",
     "text": [
      "3\n"
     ]
    }
   ],
   "source": [
    "liste = [1,2,3]\n",
    "Length = 0 \n",
    "for i in liste :\n",
    " Length +=1\n",
    "print(Length)"
   ]
  },
  {
   "cell_type": "code",
   "execution_count": 22,
   "metadata": {},
   "outputs": [],
   "source": [
    "def validate_pin(pin):\n",
    "    if(type(pin) != str or len(pin) not in [4, 6]):\n",
    "        return(False)\n",
    "    for test in pin:\n",
    "        if test not in \"0123456789\":\n",
    "            return(False)\n",
    "    return(True)\n"
   ]
  },
  {
   "cell_type": "code",
   "execution_count": null,
   "metadata": {},
   "outputs": [],
   "source": [
    "def nb_year(p0, percent, aug, p):\n",
    "    ans=0\n",
    "    while(p0<p):\n",
    "        p0=p0+(p0*(percent/100))+aug\n",
    "        ans=ans+1\n",
    "    return ans\n",
    "nb_year(1500, 5, 100, 5000),"
   ]
  },
  {
   "cell_type": "code",
   "execution_count": null,
   "metadata": {},
   "outputs": [],
   "source": [
    "def my_function(parameter):\n",
    "    print(\"I want to learn \"+parameter)\n",
    "my_function(\"to code!\")  #it returns \"I want to learn to code!\"\n",
    "my_function(\"to do AI!\")  #it returns \"I want to learn to do AI!\""
   ]
  },
  {
   "cell_type": "code",
   "execution_count": null,
   "metadata": {},
   "outputs": [],
   "source": [
    "def function_name(parameter):\n",
    "    print(\"i want to learn\" + parameter)\n",
    "function_name('CODING')"
   ]
  },
  {
   "cell_type": "code",
   "execution_count": null,
   "metadata": {},
   "outputs": [],
   "source": [
    "def length(liste):\n",
    "    s =0 \n",
    "    for i in liste:\n",
    "     s+=1 #s = s+1\n",
    "    return(s)\n",
    "a = [1,2,3,4]\n",
    "print(length(a)) #4"
   ]
  },
  {
   "cell_type": "code",
   "execution_count": null,
   "metadata": {},
   "outputs": [],
   "source": [
    "def length(liste):\n",
    "    A=10\n",
    "    for n in liste:\n",
    "        n+=1\n",
    "        return(n)\n",
    "c = [1,2,3,4,5,6,7,8,9]\n",
    "print(length(c))"
   ]
  },
  {
   "cell_type": "code",
   "execution_count": null,
   "metadata": {},
   "outputs": [],
   "source": [
    "def my_function(country=\"Morroco\"):\n",
    "    print(\"i am from\" +country)\n",
    "my_function(\"Canada\")\n",
    "my_function(\"Algeria\")\n",
    "my_function()"
   ]
  },
  {
   "cell_type": "code",
   "execution_count": null,
   "metadata": {},
   "outputs": [],
   "source": [
    "def my_function(country=\"Tunisia\"):\n",
    "    print(\"I am from \"+country)\n",
    "my_function(\"Maroc\")\n",
    "my_function(\"Algeria\")\n",
    "my_function()"
   ]
  },
  {
   "cell_type": "code",
   "execution_count": 51,
   "metadata": {},
   "outputs": [
    {
     "name": "stdout",
     "output_type": "stream",
     "text": [
      "4\n"
     ]
    }
   ],
   "source": [
    "def minimum (a,b):\n",
    "    if a<b:\n",
    "        return(a)\n",
    "    else:\n",
    "        return(b)\n",
    "min = minimum(4,4)\n",
    "print(min)"
   ]
  },
  {
   "cell_type": "code",
   "execution_count": 63,
   "metadata": {},
   "outputs": [
    {
     "name": "stdout",
     "output_type": "stream",
     "text": [
      "24082025\n"
     ]
    }
   ],
   "source": [
    "#sum = lambda a,b,c : a+b+c\n",
    "#print(sum(7,10,46))\n",
    "year = lambda ch : ch[:20]\n",
    "ch = \"24082025\"\n",
    "print(year(ch))"
   ]
  },
  {
   "cell_type": "code",
   "execution_count": 64,
   "metadata": {},
   "outputs": [
    {
     "name": "stdout",
     "output_type": "stream",
     "text": [
      "03\n"
     ]
    }
   ],
   "source": [
    "test = lambda date : date.split('/')[1]\n",
    "date = '2020/03/10'\n",
    "print(test(date))"
   ]
  },
  {
   "cell_type": "code",
   "execution_count": 68,
   "metadata": {},
   "outputs": [
    {
     "name": "stdout",
     "output_type": "stream",
     "text": [
      "[5, 6, 6]\n"
     ]
    }
   ],
   "source": [
    "def myfunc(a):\n",
    "\treturn len(a)\n",
    "fruit=('apple', 'banana', 'cherry')\n",
    "result = map(myfunc,fruit )\n",
    "print(list(result))"
   ]
  },
  {
   "cell_type": "code",
   "execution_count": 70,
   "metadata": {},
   "outputs": [
    {
     "name": "stdout",
     "output_type": "stream",
     "text": [
      "[6, 5, 3]\n"
     ]
    }
   ],
   "source": [
    "def my_library(a):\n",
    "    return len(a)\n",
    "modules = ('compta', 'fisca', 'Eps')\n",
    "result = map(my_library,modules)\n",
    "print(list(result))"
   ]
  },
  {
   "cell_type": "code",
   "execution_count": 2,
   "metadata": {},
   "outputs": [
    {
     "name": "stdout",
     "output_type": "stream",
     "text": [
      "50\n"
     ]
    }
   ],
   "source": [
    "def calculator(num1, num2):\n",
    "    operator=input(\"enter_your_operator(+,-,*,/):\")\n",
    "    if operator == '+':\n",
    "        return num1+num2\n",
    "    elif operator == '-':\n",
    "        return num1-num2\n",
    "    elif operator == '*':\n",
    "      return num1*+num2\n",
    "    elif operator == '/':\n",
    "        return num2 !=0\n",
    "    else:\n",
    "        return (\"invalid syntax\")\n",
    "result = calculator(10,5)\n",
    "print(result)"
   ]
  }
 ],
 "metadata": {
  "kernelspec": {
   "display_name": "base",
   "language": "python",
   "name": "python3"
  },
  "language_info": {
   "codemirror_mode": {
    "name": "ipython",
    "version": 3
   },
   "file_extension": ".py",
   "mimetype": "text/x-python",
   "name": "python",
   "nbconvert_exporter": "python",
   "pygments_lexer": "ipython3",
   "version": "3.10.14"
  }
 },
 "nbformat": 4,
 "nbformat_minor": 2
}
