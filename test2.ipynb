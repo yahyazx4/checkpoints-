{
 "cells": [
  {
   "cell_type": "code",
   "execution_count": null,
   "metadata": {},
   "outputs": [],
   "source": [
    "print (\"Welcome to Python world! Let's start coding\")"
   ]
  },
  {
   "cell_type": "code",
   "execution_count": null,
   "metadata": {},
   "outputs": [],
   "source": [
    "a = 1 + 2 + 3 + \\\n",
    "    4 + 5 + 6 + \\\n",
    "    7 + 8 + 9\n",
    "print(a)\n"
   ]
  },
  {
   "cell_type": "code",
   "execution_count": null,
   "metadata": {},
   "outputs": [],
   "source": [
    "a = 1 + 2 + 3 + \n",
    "    4 + 5 + 6 +\n",
    "    7 + 8 + 9"
   ]
  },
  {
   "cell_type": "code",
   "execution_count": null,
   "metadata": {},
   "outputs": [],
   "source": []
  },
  {
   "cell_type": "code",
   "execution_count": 49,
   "metadata": {},
   "outputs": [
    {
     "name": "stdout",
     "output_type": "stream",
     "text": [
      "<class 'str'>\n",
      "<class 'int'>\n",
      "<class 'float'>\n"
     ]
    }
   ],
   "source": [
    "x=\"yahya\"\n",
    "print(type(x))\n",
    "y = 5\n",
    "print(type(y))\n",
    "z = 5.5\n",
    "print(type(z))"
   ]
  },
  {
   "cell_type": "code",
   "execution_count": null,
   "metadata": {},
   "outputs": [],
   "source": [
    "for i in range(5):\n",
    "    print(i)\n",
    "for o in range(10):\n",
    "    print(o)"
   ]
  },
  {
   "cell_type": "code",
   "execution_count": 12,
   "metadata": {},
   "outputs": [
    {
     "name": "stdout",
     "output_type": "stream",
     "text": [
      "correct_number\n",
      "Your guess is too low. Guess again. \n"
     ]
    },
    {
     "ename": "ValueError",
     "evalue": "invalid literal for int() with base 10: ''",
     "output_type": "error",
     "traceback": [
      "\u001b[1;31m---------------------------------------------------------------------------\u001b[0m",
      "\u001b[1;31mValueError\u001b[0m                                Traceback (most recent call last)",
      "Cell \u001b[1;32mIn[12], line 26\u001b[0m\n\u001b[0;32m     24\u001b[0m    \u001b[38;5;28;01melif\u001b[39;00m player_guess \u001b[38;5;241m<\u001b[39m correct_number: \n\u001b[0;32m     25\u001b[0m         \u001b[38;5;28mprint\u001b[39m(\u001b[38;5;124m\"\u001b[39m\u001b[38;5;124mYour guess is too low. Guess again. \u001b[39m\u001b[38;5;124m\"\u001b[39m)\n\u001b[1;32m---> 26\u001b[0m         player_guess \u001b[38;5;241m=\u001b[39m \u001b[38;5;28;43mint\u001b[39;49m\u001b[43m(\u001b[49m\u001b[38;5;28;43minput\u001b[39;49m\u001b[43m(\u001b[49m\u001b[38;5;124;43m\"\u001b[39;49m\u001b[38;5;124;43menter you answer\u001b[39;49m\u001b[38;5;124;43m\"\u001b[39;49m\u001b[43m)\u001b[49m\u001b[43m)\u001b[49m\n\u001b[0;32m     27\u001b[0m \u001b[38;5;28mprint\u001b[39m(\u001b[38;5;124m\"\u001b[39m\u001b[38;5;124myou are correct\u001b[39m\u001b[38;5;124m\"\u001b[39m)\n",
      "\u001b[1;31mValueError\u001b[0m: invalid literal for int() with base 10: ''"
     ]
    }
   ],
   "source": [
    "#guess = input(\"enter your guess name\")\n",
    "#print('hello' , guess)\n",
    "#a = int(guess)\n",
    "#print(a)\n",
    "#import random\n",
    "#x = random.randint(1,100)\n",
    "#print(x)\n",
    "#a = 12\n",
    "#r = 100\n",
    "#if a < r : \n",
    "#    #print('true')\n",
    "#elif a == r : \n",
    "    #print(\"yes\")\n",
    "#else : \n",
    "    #print(\"no\")\n",
    "import random\n",
    "correct_number= random.randint(1,100)   \n",
    "print(\"correct_number\") \n",
    "player_guess = int(input(\"enter you answer\"))\n",
    "while player_guess != correct_number:\n",
    "   if player_guess >  correct_number:  \n",
    "        print(\"Your guess is too high. Guess again. \")\n",
    "        player_guess = int(input(\"enter you answer\"))\n",
    "   elif player_guess < correct_number: \n",
    "        print(\"Your guess is too low. Guess again. \")\n",
    "        player_guess = int(input(\"enter you answer\"))\n",
    "print(\"you are correct\")\n",
    "\n"
   ]
  },
  {
   "cell_type": "code",
   "execution_count": null,
   "metadata": {},
   "outputs": [],
   "source": [
    "my_list = [\"yahya\" , \"Malak\" , \"Badr\" , \"Mama\" , \"Baba\" , \"Amine\"]\n",
    "#print(my_list[1:3]) \n",
    "#print(len(my_list))\n",
    "my_list.append(\"Matlab\") #ADD ITEAM TO THE END FO THE LIST \n",
    "print(my_list)\n"
   ]
  },
  {
   "cell_type": "code",
   "execution_count": null,
   "metadata": {},
   "outputs": [],
   "source": [
    "my_list = [\"yahya\" , \"Malak\" , \"Badr\" , \"Mama\" , \"Baba\" , \"Amine\"]\n",
    "my_list.insert(2,\"neymar\") #add an item to a specified place\n",
    "print(my_list)"
   ]
  },
  {
   "cell_type": "code",
   "execution_count": null,
   "metadata": {},
   "outputs": [],
   "source": [
    "my_list = [\"yahya\" , \"Malak\" , \"Badr\" , \"Mama\" , \"Baba\" , \"Amine\"]\n",
    "my_list[5] = \"Kill\"  #change the second item(spark)\n",
    "print(my_list)"
   ]
  },
  {
   "cell_type": "code",
   "execution_count": null,
   "metadata": {},
   "outputs": [],
   "source": [
    "my_list = [\"yahya\" , \"Malak\" , \"Badr\" , \"Mama\" , \"Baba\" , \"Amine\"]\n",
    "my_list.remove(\"yahya\")\n",
    "print(my_list)"
   ]
  },
  {
   "cell_type": "code",
   "execution_count": null,
   "metadata": {},
   "outputs": [],
   "source": [
    "my_dictionary = {\"knowled\" : \"python\" , \"coding\" : \"cat\" , \"house\" : 1999}\n",
    "for key in my_dictionary.keys() : \n",
    "    print(key)"
   ]
  },
  {
   "cell_type": "code",
   "execution_count": null,
   "metadata": {},
   "outputs": [],
   "source": [
    "my_dictionary = {\"knowled\" : \"python\" , \"coding\" : \"cat\" , \"house\" : 1999}\n",
    "for value in my_dictionary.values () : \n",
    "    print(value)"
   ]
  },
  {
   "cell_type": "code",
   "execution_count": null,
   "metadata": {},
   "outputs": [],
   "source": [
    "my_dictionary = {\"knowled\" : \"python\" , \"coding\" : \"cat\" , \"house\" : 1999}\n",
    "for item in my_dictionary.items () : \n",
    "    print(item)"
   ]
  },
  {
   "cell_type": "code",
   "execution_count": null,
   "metadata": {},
   "outputs": [],
   "source": [
    "my_dictionary = {\"knowled\" : \"python\" , \"coding\" : \"cat\" , \"house\" : 1999}\n",
    "my_dictionary[\"play\"] = True\n",
    "print(my_dictionary) #add an item"
   ]
  },
  {
   "cell_type": "code",
   "execution_count": null,
   "metadata": {},
   "outputs": [],
   "source": [
    "my_set = (\"python\" , \"java\" , \"C++\")\n",
    "my_set.add(\"scala\")                     #ask for\n",
    "print(my_set)   "
   ]
  },
  {
   "cell_type": "code",
   "execution_count": null,
   "metadata": {},
   "outputs": [],
   "source": [
    "my_tuple =(\"python\" , \"java\" , \"C++\")\n",
    "print(my_tuple)                         #tuples are ordered and unchangable "
   ]
  },
  {
   "cell_type": "code",
   "execution_count": null,
   "metadata": {},
   "outputs": [],
   "source": [
    "tuple1 =(\"python\" , \"java\" , \"C++\")\n",
    "tuple2 = (\"html\" , \"Ruby\" , \"Data science\")\n",
    "tuple3 = tuple1 + tuple2                            #Join two tuples\n",
    "print(tuple3)"
   ]
  },
  {
   "cell_type": "code",
   "execution_count": 17,
   "metadata": {},
   "outputs": [
    {
     "ename": "NameError",
     "evalue": "name 'multiply_list' is not defined",
     "output_type": "error",
     "traceback": [
      "\u001b[1;31m---------------------------------------------------------------------------\u001b[0m",
      "\u001b[1;31mNameError\u001b[0m                                 Traceback (most recent call last)",
      "Cell \u001b[1;32mIn[17], line 8\u001b[0m\n\u001b[0;32m      6\u001b[0m     \u001b[38;5;28;01mreturn\u001b[39;00m result\n\u001b[0;32m      7\u001b[0m sample_list \u001b[38;5;241m=\u001b[39m [\u001b[38;5;241m2\u001b[39m,\u001b[38;5;241m3\u001b[39m,\u001b[38;5;241m6\u001b[39m]\n\u001b[1;32m----> 8\u001b[0m result \u001b[38;5;241m=\u001b[39m \u001b[43mmultiply_list\u001b[49m(sample_list)\n\u001b[0;32m      9\u001b[0m \u001b[38;5;28mprint\u001b[39m(result)\n",
      "\u001b[1;31mNameError\u001b[0m: name 'multiply_list' is not defined"
     ]
    }
   ],
   "source": [
    "#Question 1\n",
    "def list(items):\n",
    "    result = 1 \n",
    "    for item in items:\n",
    "        result *= item\n",
    "    return result\n",
    "sample_list = [2,3,6]\n",
    "result = multiply_list(sample_list)\n",
    "print(result)"
   ]
  },
  {
   "cell_type": "code",
   "execution_count": 20,
   "metadata": {},
   "outputs": [
    {
     "name": "stdout",
     "output_type": "stream",
     "text": [
      "[(1, 2), (2, 1), (2, 3), (2, 5), (4, 4)]\n"
     ]
    }
   ],
   "source": [
    "#question 2 \n",
    "Sample_Liste : [(2, 5), (1, 2), (4, 4), (2, 3), (2, 1)] \n",
    "tuple1 = [(2,5)]\n",
    "tuple2 = [(1,2)]\n",
    "tuple4 = [(4,4)]\n",
    "tuple3 = [(2,3)]\n",
    "tuple5 = [(2,1)]\n",
    "tuple6 = tuple1 + tuple2 + tuple3 + tuple4 + tuple5\n",
    "tuple6.sort()\n",
    "print(tuple6)"
   ]
  },
  {
   "cell_type": "code",
   "execution_count": 30,
   "metadata": {},
   "outputs": [
    {
     "name": "stdout",
     "output_type": "stream",
     "text": [
      "{'d': 400, 'c': 300, 'a': 400, 'b': 400}\n"
     ]
    }
   ],
   "source": [
    "#question 3\n",
    "d1 = {'a': 100, 'b': 200, 'c':300}\n",
    "d2 = {'a': 300, 'b': 200, 'd':400}\n",
    "result = {key: d1.get(key, 0) + d2.get(key, 0) for key in set(d1) | set(d2)}\n",
    "print(result)"
   ]
  },
  {
   "cell_type": "code",
   "execution_count": 54,
   "metadata": {},
   "outputs": [
    {
     "name": "stdout",
     "output_type": "stream",
     "text": [
      "{1: 1, 2: 4, 3: 9, 4: 16, 5: 25, 6: 36, 7: 49, 8: 64}\n"
     ]
    }
   ],
   "source": [
    "#question 4 \n",
    "def generat_squared_dict(n) : \n",
    "    squared_dict = {i: i * i for i in range(1, n + 1)}\n",
    "    return squared_dict\n",
    "n = int(input(\"Enter an integer:\"))\n",
    "squared_dict = generat_squared_dict(n)\n",
    "print(squared_dict)"
   ]
  },
  {
   "cell_type": "code",
   "execution_count": 62,
   "metadata": {},
   "outputs": [
    {
     "name": "stdout",
     "output_type": "stream",
     "text": [
      "[('item3', '24.5'), ('item2', '15.10'), ('item1', '12.20')]\n"
     ]
    }
   ],
   "source": [
    "#suestion 5\n",
    "tuple_list = [('item1', '12.20'), ('item2', '15.10'), ('item3', '24.5')]\n",
    "sorted_list = sorted(tuple_list, key=lambda x:float(x[1]) , reverse=True)\n",
    "print(sorted_list)"
   ]
  },
  {
   "cell_type": "code",
   "execution_count": 65,
   "metadata": {},
   "outputs": [
    {
     "name": "stdout",
     "output_type": "stream",
     "text": [
      "{0, 1, 2, 3, 4}\n",
      "{0, 1, 2, 3, 4}\n",
      "{0, 1, 2, 3, 4}\n",
      "{0, 1, 2, 3, 4}\n",
      "{0, 1, 2, 3, 4}\n",
      "{0, 1, 2, 3, 4}\n",
      "Set after removing 2: {0, 1, 3, 4}\n",
      "Set after adding 5: {0, 1, 3, 4, 5}\n"
     ]
    }
   ],
   "source": [
    "#question 6\n",
    "my_set = {0, 1, 2, 3, 4}\n",
    "print(my_set)\n",
    "for item in my_set : \n",
    "    print(my_set)\n",
    "my_set.remove(2)\n",
    "print(\"Set after removing 2:\", my_set)\n",
    "my_set.add(5)\n",
    "print(\"Set after adding 5:\", my_set)\n"
   ]
  },
  {
   "cell_type": "code",
   "execution_count": null,
   "metadata": {},
   "outputs": [],
   "source": [
    "base = input()\n",
    "hauteur = input()\n",
    "def surface_triangle(b,h):\n",
    "    return(b*h)/2\n",
    "print(surface_triangle(int(base , hauteur)))\n"
   ]
  },
  {
   "cell_type": "code",
   "execution_count": null,
   "metadata": {},
   "outputs": [],
   "source": [
    "email = input(\"Enter your email: \")\n",
    "password = input(\"Enter your password: \")\n",
    "name = input(\"Enter your name: \")\n",
    "\n",
    "def enter_your_email(email):\n",
    "    return email\n",
    "\n",
    "def enter_your_password(password):\n",
    "    return password\n",
    "\n",
    "def enter_your_name(name):\n",
    "    return name\n",
    "\n",
    "if email == enter_your_email(email):\n",
    "    print(\"Yes\")\n",
    "else:\n",
    "    print(\"No\")\n",
    "\n",
    "if password == enter_your_password(password):\n",
    "    print(\"Yes\")\n",
    "else:\n",
    "    print(\"Access denied\")\n",
    "\n",
    "if name == enter_your_name(name):\n",
    "    print(\"Yes\")\n",
    "else:\n",
    "    print(\"Try again\")\n",
    "\n"
   ]
  },
  {
   "cell_type": "code",
   "execution_count": 12,
   "metadata": {},
   "outputs": [
    {
     "name": "stdout",
     "output_type": "stream",
     "text": [
      "Yes\n",
      "acces allowed\n"
     ]
    }
   ],
   "source": [
    "User_name = input()\n",
    "password = input()\n",
    "def enter_your_name(name):\n",
    "    return User_name\n",
    "def enter_your_password(password):\n",
    "    return password\n",
    "if User_name == enter_your_name(User_name):\n",
    "    print(\"Yes\")\n",
    "else:\n",
    "    print(\"No\")\n",
    "if password == enter_your_password(password):\n",
    "    print(\"acces allowed\")\n",
    "else:\n",
    "    print(\"try again\")\n",
    "    "
   ]
  },
  {
   "cell_type": "code",
   "execution_count": null,
   "metadata": {},
   "outputs": [],
   "source": []
  },
  {
   "cell_type": "code",
   "execution_count": 7,
   "metadata": {},
   "outputs": [
    {
     "name": "stdout",
     "output_type": "stream",
     "text": [
      "yes\n",
      "Great\n"
     ]
    }
   ],
   "source": [
    "name = \"yahya\"\n",
    "age = 21 \n",
    "entered_your_name = input(\"Enter_your_name: \")\n",
    "entered_your_age = int(input(\"enter_your_age\"))\n",
    "def enter_your_name(name):\n",
    "    return name\n",
    "def enter_your_age(age):\n",
    "    return age \n",
    "if entered_your_name == enter_your_name(name):\n",
    "    print(\"yes\")\n",
    "else: \n",
    "    print(\"Sorry acces denied\")\n",
    "if entered_your_age == enter_your_age(age):\n",
    "    print(\"Great\")\n",
    "else:\n",
    "    print(\"Sorry cannot\")\n",
    "\n"
   ]
  },
  {
   "cell_type": "code",
   "execution_count": null,
   "metadata": {},
   "outputs": [],
   "source": [
    "import random\n",
    "correct_number = 100\n",
    "player_guess = int(input(\"enter_your_guess\"))\n",
    "while player_guess != correct_number:\n",
    "    if player_guess == correct_number:\n",
    "        print(\"you guessed right\")\n",
    "        player_guess = int(input(\"enter you answer\"))\n",
    "    else: \n",
    "        print(\"try again\")\n",
    "        player_guess = int(input(\"enter you answer\"))\n",
    "print(\"you are right move one\")"
   ]
  },
  {
   "cell_type": "code",
   "execution_count": null,
   "metadata": {},
   "outputs": [],
   "source": [
    "\n",
    "print(\"Hello to my game\")\n",
    "playing = input(\"Do you want to play my game? \")\n",
    "if playing != \"yes\":\n",
    "    quit()\n",
    "print(\"okay! let't play :)\")\n",
    "answer = input(\"what is a mobile \")\n",
    "if answer == \"A mobile is a devise we use daily\":\n",
    "    print('correct')\n",
    "else: \n",
    "    print(\"Try again\")\n",
    "\n",
    "    answer = input(\"What is a laptop? \")\n",
    "if answer == \"something we use to finish our daily tasks\":\n",
    "    print('correct')\n",
    "else: \n",
    "    print(\"Try again\")\n",
    "\n",
    "\n",
    "    answer = input(\"How can you describe a cat? \")\n",
    "if answer == \"A cat is an animal we all find beautiful\":\n",
    "    print('correct')\n",
    "else: \n",
    "    print(\"Try again\")\n",
    "\n",
    "\n",
    "    answer = input(\"What do you think about Football?\")\n",
    "if answer == \"Football is a beautiful sport it is my favorite\":\n",
    "    print('correct')\n",
    "else: \n",
    "    print(\"Try again\")\n",
    "    \n"
   ]
  },
  {
   "cell_type": "code",
   "execution_count": null,
   "metadata": {},
   "outputs": [],
   "source": [
    "print(\"Welcome to our website\")\n",
    "correct_e_mail = (\"elbouatmani123@gmail.com\")\n",
    "correct_password = (\"Jhin4\")\n",
    "e_mail =input(\"Please enter your e_mail\")\n",
    "password = input(\"Please enter your password\")\n",
    "if e_mail == correct_e_mail:\n",
    "    print(\"welcome\")\n",
    "else:\n",
    "    print(\"Sorry try again\")\n",
    "if password == correct_password:\n",
    "    print(\"Logging in\")\n",
    "else:\n",
    "    print(\"Try one more time\")\n"
   ]
  },
  {
   "cell_type": "code",
   "execution_count": null,
   "metadata": {},
   "outputs": [],
   "source": [
    "sum = 0 \n",
    "i = 1 # initialize sum and counter\n",
    "\n",
    "while i <= 10:\n",
    "    sum = sum + i\n",
    "    i = i+1    # update counter\n",
    "\n",
    "print(\"The sum is\", sum) # print the sum\n",
    "i"
   ]
  },
  {
   "cell_type": "code",
   "execution_count": null,
   "metadata": {},
   "outputs": [],
   "source": [
    "dis = {\"python\":9,\"c\":12,\"java\":13,\"python\":123}\n",
    "#for values in dis.values():\n",
    "   # print(values)\n",
    "for k in dis.keys():\n",
    "    print(k)"
   ]
  },
  {
   "cell_type": "code",
   "execution_count": null,
   "metadata": {},
   "outputs": [],
   "source": [
    "import random\n",
    "guessesTaken = 0\n",
    "print(\"Hello to my game! what is your name?\")\n",
    "myName = input()\n",
    "number = random.randint(1,10)\n",
    "print('well' + myName + 'Guess the number i am thinking about')\n",
    "while guessesTaken < 6:\n",
    "    print('Take a guess')\n",
    "    guess = input()\n",
    "    guess = int(guess)\n",
    "\n",
    "    guessesTaken = guessesTaken + 1 \n",
    "    if guess < number:\n",
    "        print('you guessed too low')\n",
    "if guess > number:\n",
    "    print('you guessed too high')\n",
    "if guess == number: \n",
    "    guessesTaken = str(guessesTaken)\n",
    "    print('You did well')\n",
    "\n",
    "if guess != number:\n",
    "    number = str(number)\n",
    "    print('You guessed wrong try again')\n",
    "\n"
   ]
  },
  {
   "cell_type": "code",
   "execution_count": null,
   "metadata": {},
   "outputs": [],
   "source": [
    "list = [1,2,3,4,5,6]\n",
    "lenght = "
   ]
  }
 ],
 "metadata": {
  "kernelspec": {
   "display_name": "base",
   "language": "python",
   "name": "python3"
  },
  "language_info": {
   "codemirror_mode": {
    "name": "ipython",
    "version": 3
   },
   "file_extension": ".py",
   "mimetype": "text/x-python",
   "name": "python",
   "nbconvert_exporter": "python",
   "pygments_lexer": "ipython3",
   "version": "3.10.14"
  }
 },
 "nbformat": 4,
 "nbformat_minor": 2
}
