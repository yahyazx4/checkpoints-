{
 "cells": [
  {
   "cell_type": "code",
   "execution_count": null,
   "metadata": {},
   "outputs": [],
   "source": [
    "def list(items):\n",
    "    result = 1 \n",
    "    for item in items:\n",
    "        result *= item\n",
    "    return result\n",
    "sample_list = [2,3,6]\n",
    "result = multiply_list(sample_list)\n",
    "print(result)"
   ]
  },
  {
   "cell_type": "code",
   "execution_count": 1,
   "metadata": {},
   "outputs": [
    {
     "name": "stdout",
     "output_type": "stream",
     "text": [
      "[(1, 2), (2, 1), (2, 3), (2, 5), (4, 4)]\n"
     ]
    }
   ],
   "source": [
    "#Sample List : [(2, 5), (1, 2), (4, 4), (2, 3), (2, 1)]\n",
    "\n",
    "#Expected result : [(2, 1), (1, 2), (2, 3), (4, 4), (2, 5)]\n",
    "Sample_Liste : [(2, 5), (1, 2), (4, 4), (2, 3), (2, 1)] \n",
    "tuple1 = [(2,5)]\n",
    "tuple2 = [(1,2)]\n",
    "tuple4 = [(4,4)]\n",
    "tuple3 = [(2,3)]\n",
    "tuple5 = [(2,1)]\n",
    "tuple6 = tuple1 + tuple2 + tuple3 + tuple4 + tuple5\n",
    "tuple6.sort()\n",
    "print(tuple6)"
   ]
  },
  {
   "cell_type": "code",
   "execution_count": null,
   "metadata": {},
   "outputs": [],
   "source": [
    "#question 3\n",
    "d1 = {'a': 100, 'b': 200, 'c':300}\n",
    "d2 = {'a': 300, 'b': 200, 'd':400}\n",
    "result = {key: d1.get(key, 0) + d2.get(key, 0) for key in set(d1) | set(d2)}\n",
    "print(result)"
   ]
  },
  {
   "cell_type": "code",
   "execution_count": null,
   "metadata": {},
   "outputs": [],
   "source": [
    "#question 4 \n",
    "def generat_squared_dict(n) : \n",
    "    squared_dict = {i: i * i for i in range(1, n + 1)}\n",
    "    return squared_dict\n",
    "n = int(input(\"Enter an integer:\"))\n",
    "squared_dict = generat_squared_dict(n)\n",
    "print(squared_dict)"
   ]
  },
  {
   "cell_type": "code",
   "execution_count": null,
   "metadata": {},
   "outputs": [],
   "source": [
    "#suestion 5\n",
    "tuple_list = [('item1', '12.20'), ('item2', '15.10'), ('item3', '24.5')]\n",
    "sorted_list = sorted(tuple_list, key=lambda x:float(x[1]) , reverse=True)\n",
    "print(sorted_list)"
   ]
  },
  {
   "cell_type": "code",
   "execution_count": null,
   "metadata": {},
   "outputs": [],
   "source": [
    "#question 6\n",
    "my_set = {0, 1, 2, 3, 4}\n",
    "print(my_set)\n",
    "for item in my_set : \n",
    "    print(my_set)\n",
    "my_set.remove(2)\n",
    "print(\"Set after removing 2:\", my_set)\n",
    "my_set.add(5)\n",
    "print(\"Set after adding 5:\", my_set)"
   ]
  }
 ],
 "metadata": {
  "kernelspec": {
   "display_name": "base",
   "language": "python",
   "name": "python3"
  },
  "language_info": {
   "codemirror_mode": {
    "name": "ipython",
    "version": 3
   },
   "file_extension": ".py",
   "mimetype": "text/x-python",
   "name": "python",
   "nbconvert_exporter": "python",
   "pygments_lexer": "ipython3",
   "version": "3.10.14"
  }
 },
 "nbformat": 4,
 "nbformat_minor": 2
}
